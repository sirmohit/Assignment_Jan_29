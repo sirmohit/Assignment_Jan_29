{
 "cells": [
  {
   "cell_type": "markdown",
   "id": "f03660be",
   "metadata": {},
   "source": [
    "1. How developed python programming language?\n",
    "\n",
    "Ans : Python programming language was developed by Guido van Rossum."
   ]
  },
  {
   "cell_type": "markdown",
   "id": "5d13b12a",
   "metadata": {},
   "source": [
    "2. Which type of programming does python support?\n",
    "Ans:- Python is an interpreted programming language, supporting object-oriented, structured, and functional programming."
   ]
  },
  {
   "cell_type": "markdown",
   "id": "b8e406e1",
   "metadata": {},
   "source": [
    "3.Is python is case sensitive when dealing with identifiers?\n",
    "\n",
    "Ans:- Yes"
   ]
  },
  {
   "cell_type": "markdown",
   "id": "b2f6305a",
   "metadata": {},
   "source": [
    "4.What is the correct extension of python file?\n",
    "Ans:- .py"
   ]
  },
  {
   "cell_type": "markdown",
   "id": "7fe5cb17",
   "metadata": {},
   "source": [
    "5.Is python code is compiled or interpreted?\n",
    "\n",
    "Ans:-Python is Both Compiled as well as Interpreted."
   ]
  },
  {
   "cell_type": "code",
   "execution_count": 8,
   "id": "55d53e57",
   "metadata": {},
   "outputs": [
    {
     "name": "stdout",
     "output_type": "stream",
     "text": [
      "Hello, mohit!\n"
     ]
    }
   ],
   "source": [
    "#6.Name a few block of code used to define python in language?\n",
    "\n",
    "#Ans:-a) Function Definitions:Functions in Python are defined using the def keyword followed by the function name and parameters.\n",
    "def greet(name):\n",
    "     print(f\"Hello, {name}!\")\n",
    "greet(\"mohit\")\n"
   ]
  },
  {
   "cell_type": "code",
   "execution_count": 1,
   "id": "5f34aa40",
   "metadata": {},
   "outputs": [
    {
     "name": "stdout",
     "output_type": "stream",
     "text": [
      "Positive number\n"
     ]
    }
   ],
   "source": [
    "  \n",
    "    # b)Conditional Statements:\n",
    "    # Conditional statements such as if, elif, and else are used to perform different actions based on specific conditions.\n",
    "    x = 10\n",
    "    if x > 0:\n",
    "        print(\"Positive number\")\n",
    "    elif x == 0:\n",
    "        print(\"Zero\")\n",
    "    else:\n",
    "        print(\"Negative number\")"
   ]
  },
  {
   "cell_type": "code",
   "execution_count": 3,
   "id": "3185ca02",
   "metadata": {},
   "outputs": [
    {
     "name": "stdout",
     "output_type": "stream",
     "text": [
      "0\n",
      "1\n",
      "2\n",
      "3\n",
      "4\n"
     ]
    }
   ],
   "source": [
    "# c)Loops: Loops like for and while are used for iterating over sequences or executing code repeatedly.\n",
    "      # Using for loop\n",
    "for i in range(5):\n",
    "    print(i)\n"
   ]
  },
  {
   "cell_type": "code",
   "execution_count": 5,
   "id": "c358f758",
   "metadata": {},
   "outputs": [
    {
     "name": "stdout",
     "output_type": "stream",
     "text": [
      "0\n",
      "1\n",
      "2\n",
      "3\n",
      "4\n"
     ]
    }
   ],
   "source": [
    "  # Using while loop\n",
    "count = 0\n",
    "while count < 5:\n",
    "    print(count)\n",
    "    count += 1\n"
   ]
  },
  {
   "cell_type": "markdown",
   "id": "eec3123d",
   "metadata": {},
   "source": [
    "7.State a character used to give a single line comment in python.\n",
    "\n",
    "Ans:-Character used to give a single line comment in python is \"#\"."
   ]
  },
  {
   "cell_type": "markdown",
   "id": "7b9ed8a8",
   "metadata": {},
   "source": [
    "8.Mention the function which can help us to find version of python that we are currently working on.\n",
    "\n",
    "Ans:- To find out the version of Python you are currently working with, you can use the sys module in Python and access\n",
    "      its version attribute.\n",
    "      sys.version\n",
    "      sys.version_info\n"
   ]
  },
  {
   "cell_type": "markdown",
   "id": "ee72926e",
   "metadata": {},
   "source": [
    "9.Python supports the creation of anonymous function at runtime,using the construct called?\n",
    "\n",
    "\n",
    "Ans:\"Yes\"\n",
    "    Python supports the creation of anonymous functions at runtime using the construct called lambda."
   ]
  },
  {
   "cell_type": "markdown",
   "id": "666925f8",
   "metadata": {},
   "source": [
    "10.What does pip stands for?\n",
    "\n",
    "Ans:-pip stands for \"Pip Installs Packages\" "
   ]
  },
  {
   "cell_type": "markdown",
   "id": "6265fb0a",
   "metadata": {},
   "source": [
    "11.Mention few build in function in python?\n",
    "\n",
    "Ans:-Some examples of built-in functions in Python are len(), str(), int(), float(), range(), max(), min(), \n",
    "    sum(), open(), sorted(), and type()."
   ]
  },
  {
   "cell_type": "markdown",
   "id": "d11b853c",
   "metadata": {},
   "source": [
    "12.What is the maximum possible length of idetifiers in python?\n",
    "\n",
    "Ans:- Indentifier can be of variable length,but we should take care to make precise and understandable."
   ]
  },
  {
   "cell_type": "markdown",
   "id": "f9777e79",
   "metadata": {},
   "source": [
    "13.What are the binifits of using the python?\n",
    "\n",
    "Ans:-Benifits Of Python Programming\n",
    "    Free and Open-Source. Python is a free and open-source programming language. \n",
    "    Easy to Learn. Python is simple to learn, even for beginners.\n",
    "    Vast Libraries Support.\n",
    "    Greater Productivity. \n",
    "    Interpreted Language. \n",
    "    Portability. \n",
    "    Dynamically Typed. \n",
    "    Poor Memory Efficiency."
   ]
  },
  {
   "cell_type": "markdown",
   "id": "f5da7612",
   "metadata": {},
   "source": [
    "14.How is memory managed in python?\n",
    "\n",
    "Ans:-Memory managed in python by various types:\n",
    "    a)Dynamic Memory Allocation\n",
    "    b)Reference Counting\n",
    "    c)Garbage Collection\n",
    "    d)Memory Allocation and Deallocation\n",
    "    e)Memory Optimization\n"
   ]
  },
  {
   "cell_type": "markdown",
   "id": "49f30f47",
   "metadata": {},
   "source": [
    "15.How to install python on windows and set path variables?\n",
    "\n",
    "Ans:-To install Python on Windows and set the path variables, follow these steps:\n",
    "\n",
    "    Installing Python on Windows:\n",
    "    a)Download Python Installer:\n",
    "    b)Run Python Installer:\n",
    "    c)Configure Python Installation:\n",
    "    d)Verify Python Installation\n",
    "    \n",
    "    Setting Path Variables:\n",
    "    If you've installed Python and it's not automatically added to your system's PATH variable, you can manually add it by following these steps:\n",
    "\n",
    "    a)Locate Python Installation Path:\n",
    "    Find the location where Python is installed on your system. The default installation path for Python is typically C:\\Users\\YourUsername\\AppData\\Local\\Programs\\Python\\PythonXX\\, where XX is the version number.\n",
    "    b)Add Python to PATH:\n",
    "    Right-click on the This PC or Computer icon on the desktop or File Explorer and select Properties.\n",
    "    Click on Advanced system settings on the left sidebar.\n",
    "    Click on the Environment Variables button.\n",
    "    Under the System Variables section, scroll down and select the Path variable, then click on the Edit button.\n",
    "    Click on the New button and add the path to the Python installation directory and its Scripts folder (e.g., C:\\Users\\YourUsername\\AppData\\Local\\Programs\\Python\\PythonXX\\ and C:\\Users\\YourUsername\\AppData\\Local\\Programs\\Python\\PythonXX\\Scripts\\).\n",
    "    Click OK to save the changes.\n",
    "    c)Verify Path Configuration:\n",
    "    Open a new Command Prompt window and type python --version or python -V. This command should display the installed Python version, indicating that the PATH variable has been configured correctly."
   ]
  },
  {
   "cell_type": "markdown",
   "id": "fd4a929b",
   "metadata": {},
   "source": [
    "16. Is indentation is required in python?\n",
    "\n",
    "\n",
    "Ans:- Yes"
   ]
  },
  {
   "cell_type": "code",
   "execution_count": null,
   "id": "d59609cb",
   "metadata": {},
   "outputs": [],
   "source": []
  }
 ],
 "metadata": {
  "kernelspec": {
   "display_name": "Python 3 (ipykernel)",
   "language": "python",
   "name": "python3"
  },
  "language_info": {
   "codemirror_mode": {
    "name": "ipython",
    "version": 3
   },
   "file_extension": ".py",
   "mimetype": "text/x-python",
   "name": "python",
   "nbconvert_exporter": "python",
   "pygments_lexer": "ipython3",
   "version": "3.9.13"
  }
 },
 "nbformat": 4,
 "nbformat_minor": 5
}
